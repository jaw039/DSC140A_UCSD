{
 "cells": [
  {
   "cell_type": "markdown",
   "metadata": {},
   "source": [
    "Problem 1\n",
    "The file linked below contains a data set of 150 samples. The first column contains a single continuous\n",
    "feature, X, assumed to have been drawn from an unknown probability density. The second column contains\n",
    "the binary class label Y .\n",
    "\n",
    "https://f000.backblazeb2.com/file/jeldridge-data/011-univariate_density_estimation/data.csv\n",
    "\n",
    "In this problem, use a histogram estimator with bins [0, 1.5), [1.5, 3), . . . , [13.5, 15) to estimate the requested\n",
    "probabilities. In each part, show your code and provide your reasoning."
   ]
  },
  {
   "cell_type": "markdown",
   "metadata": {},
   "source": [
    "a) Estimate P(Y = 1 | X = 6.271) directly"
   ]
  },
  {
   "cell_type": "code",
   "execution_count": 2,
   "metadata": {},
   "outputs": [
    {
     "name": "stdout",
     "output_type": "stream",
     "text": [
      "\n",
      "Answer to part a):\n",
      "P(Y = 1 | X = 6.271) = 0.7143\n"
     ]
    }
   ],
   "source": [
    "import numpy as np\n",
    "import pandas as pd\n",
    "\n",
    "# Load the data\n",
    "data = pd.read_csv('data.csv', header=None, names=['X', 'Y'])\n",
    "bin_edges = np.arange(0, 15.1, 1.5)  \n",
    "\n",
    "# Target value\n",
    "target_x = 6.271\n",
    "\n",
    "# Find which bin contains our target value\n",
    "for i in range(len(bin_edges) - 1):\n",
    "    if bin_edges[i] <= target_x < bin_edges[i + 1]:\n",
    "        target_bin_start = bin_edges[i]\n",
    "        target_bin_end = bin_edges[i + 1]\n",
    "        break\n",
    "\n",
    "# Filter data for the target bin\n",
    "bin_data = data[(data['X'] >= target_bin_start) & (data['X'] < target_bin_end)]\n",
    "\n",
    "# Count total samples in the bin\n",
    "bin_total = len(bin_data)\n",
    "\n",
    "# Count samples with Y = 1 in the bin\n",
    "bin_class_1 = sum(bin_data['Y'] == 1)\n",
    "\n",
    "# Calculate the probability P(Y = 1 | X in the target bin)\n",
    "probability = bin_class_1 / bin_total\n",
    "\n",
    "# Final answer\n",
    "print(\"\\nAnswer to part a):\")\n",
    "print(f\"P(Y = 1 | X = 6.271) = {probability:.4f}\")"
   ]
  },
  {
   "cell_type": "markdown",
   "metadata": {},
   "source": [
    "b) Estimate P(Y = 1 | X = 6.271) by estimating all of: 1) the marginal density pX(x), 2) the classconditional density pX(x | Y = 1), and 3) the class prior P(Y = 1), and then applying Bayes’ rule."
   ]
  },
  {
   "cell_type": "code",
   "execution_count": null,
   "metadata": {},
   "outputs": [
    {
     "name": "stdout",
     "output_type": "stream",
     "text": [
      "P(Y = 1 | X = 6.271) = 0.7143\n"
     ]
    }
   ],
   "source": [
    "bin_edges = np.arange(0, 15.1, 1.5)\n",
    "bin_width = 1.5\n",
    "\n",
    "# Target value\n",
    "target_x = 6.271\n",
    "\n",
    "# Find target bin\n",
    "for i in range(len(bin_edges) - 1):\n",
    "    if bin_edges[i] <= target_x < bin_edges[i + 1]:\n",
    "        target_bin_start = bin_edges[i]\n",
    "        target_bin_end = bin_edges[i + 1]\n",
    "        break\n",
    "\n",
    "# Count samples for full data and for Y = 1\n",
    "total_samples = len(data)\n",
    "class1_total = data['Y'].sum()  \n",
    "p_y1 = class1_total / total_samples\n",
    "\n",
    "# Count samples in the target bin (using the bin width to estimate densities)\n",
    "in_bin = (data['X'] >= target_bin_start) & (data['X'] < target_bin_end)\n",
    "bin_total = in_bin.sum()\n",
    "class1_in_bin = data.loc[in_bin, 'Y'].sum()\n",
    "\n",
    "# Estimate pX(x) and pX(x|Y=1) in the target bin\n",
    "p_x = bin_total / (total_samples * bin_width)\n",
    "p_x_given_y1 = class1_in_bin / (class1_total * bin_width)\n",
    "\n",
    "# Apply Bayes' rule: P(Y = 1 | X) = [p(X | Y = 1) * P(Y = 1)] / p(X)\n",
    "p_y1_given_x = (p_x_given_y1 * p_y1) / p_x\n",
    "\n",
    "print(f\"P(Y = 1 | X = {target_x}) = {p_y1_given_x:.4f}\")"
   ]
  },
  {
   "cell_type": "markdown",
   "metadata": {},
   "source": [
    "c) For what values of x ∈ [0, 15] will the Bayes classifier predict y = 1?"
   ]
  },
  {
   "cell_type": "code",
   "execution_count": null,
   "metadata": {},
   "outputs": [
    {
     "name": "stdout",
     "output_type": "stream",
     "text": [
      "[0.0, 1.5) | 0.035556 | 0.000000 | y=1\n",
      "[1.5, 3.0) | 0.093333 | 0.000000 | y=1\n",
      "[3.0, 4.5) | 0.137778 | 0.004444 | y=1\n",
      "[4.5, 6.0) | 0.106667 | 0.013333 | y=1\n",
      "[6.0, 7.5) | 0.044444 | 0.017778 | y=1\n",
      "[7.5, 9.0) | 0.026667 | 0.088889 | y=0\n",
      "[9.0, 10.5) | 0.000000 | 0.066667 | y=0\n",
      "[10.5, 12.0) | 0.000000 | 0.031111 | y=0\n",
      "[12.0, 13.5) | 0.000000 | 0.000000 | y=0\n",
      "[13.5, 15.0) | 0.000000 | 0.000000 | y=0\n",
      "\n",
      "Solution: The Bayes classifier predicts y = 1 whenever pX(x | Y = 1)P(Y = 1) > pX(x | Y = 0)P(Y = 0)\n"
     ]
    }
   ],
   "source": [
    "bin_edges = np.arange(0, 15.1, 1.5)  \n",
    "# Calculate class priors\n",
    "p_y1 = sum(data['Y'] == 1) / len(data)\n",
    "p_y0 = 1 - p_y1\n",
    "y1_bins = []\n",
    "for i in range(len(bin_edges) - 1):\n",
    "    bin_start, bin_end = bin_edges[i], bin_edges[i+1]\n",
    "    bin_width = bin_end - bin_start\n",
    "    class1_in_bin = sum((data['Y'] == 1) & (data['X'] >= bin_start) & (data['X'] < bin_end))\n",
    "    class0_in_bin = sum((data['Y'] == 0) & (data['X'] >= bin_start) & (data['X'] < bin_end))\n",
    "    p_x_given_y1 = class1_in_bin / (sum(data['Y'] == 1) * bin_width)\n",
    "    p_x_given_y0 = class0_in_bin / (sum(data['Y'] == 0) * bin_width)\n",
    "    posterior_y1 = p_x_given_y1 * p_y1\n",
    "    posterior_y0 = p_x_given_y0 * p_y0\n",
    "    prediction = \"y=1\" if posterior_y1 > posterior_y0 else \"y=0\"\n",
    "    print(f\"[{bin_start}, {bin_end}) | {posterior_y1:.6f} | {posterior_y0:.6f} | {prediction}\")\n",
    "    if prediction == \"y=1\":\n",
    "        y1_bins.append([bin_start, bin_end])\n",
    "merged_regions = []\n",
    "if y1_bins:\n",
    "    merged_regions = [y1_bins[0]]\n",
    "    for i in range(1, len(y1_bins)):\n",
    "        if y1_bins[i][0] == merged_regions[-1][1]:\n",
    "            merged_regions[-1][1] = y1_bins[i][1]\n",
    "        else:\n",
    "            merged_regions.append(y1_bins[i])\n",
    "print(\"\\nSolution: The Bayes classifier predicts y = 1 whenever pX(x | Y = 1)P(Y = 1) > pX(x | Y = 0)P(Y = 0)\")"
   ]
  },
  {
   "cell_type": "markdown",
   "metadata": {},
   "source": []
  }
 ],
 "metadata": {
  "kernelspec": {
   "display_name": "Python 3",
   "language": "python",
   "name": "python3"
  },
  "language_info": {
   "codemirror_mode": {
    "name": "ipython",
    "version": 3
   },
   "file_extension": ".py",
   "mimetype": "text/x-python",
   "name": "python",
   "nbconvert_exporter": "python",
   "pygments_lexer": "ipython3",
   "version": "3.13.1"
  }
 },
 "nbformat": 4,
 "nbformat_minor": 4
}

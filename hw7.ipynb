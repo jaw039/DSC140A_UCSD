{
 "cells": [
  {
   "cell_type": "markdown",
   "metadata": {},
   "source": [
    "Problem 1\n",
    "The file linked below contains a data set of 150 samples. The first column contains a single continuous\n",
    "feature, X, assumed to have been drawn from an unknown probability density. The second column contains\n",
    "the binary class label Y .\n",
    "\n",
    "https://f000.backblazeb2.com/file/jeldridge-data/011-univariate_density_estimation/data.csv\n",
    "\n",
    "In this problem, use a histogram estimator with bins [0, 1.5), [1.5, 3), . . . , [13.5, 15) to estimate the requested\n",
    "probabilities. In each part, show your code and provide your reasoning."
   ]
  },
  {
   "cell_type": "markdown",
   "metadata": {},
   "source": [
    "a) Estimate P(Y = 1 | X = 6.271) directly"
   ]
  },
  {
   "cell_type": "code",
   "execution_count": null,
   "metadata": {},
   "outputs": [],
   "source": []
  },
  {
   "cell_type": "code",
   "execution_count": null,
   "metadata": {},
   "outputs": [],
   "source": []
  },
  {
   "cell_type": "code",
   "execution_count": null,
   "metadata": {},
   "outputs": [],
   "source": []
  },
  {
   "cell_type": "markdown",
   "metadata": {},
   "source": []
  }
 ],
 "metadata": {
  "language_info": {
   "name": "python"
  }
 },
 "nbformat": 4,
 "nbformat_minor": 2
}
